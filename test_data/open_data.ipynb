{
 "cells": [
  {
   "cell_type": "code",
   "execution_count": 2,
   "id": "f120348b",
   "metadata": {},
   "outputs": [],
   "source": [
    "import rasterio as rio\n",
    "from glob import glob"
   ]
  },
  {
   "cell_type": "code",
   "execution_count": 4,
   "id": "6b9d648d",
   "metadata": {},
   "outputs": [],
   "source": [
    "files = glob(\"*.tif\")"
   ]
  },
  {
   "cell_type": "code",
   "execution_count": 5,
   "id": "233eef46",
   "metadata": {},
   "outputs": [
    {
     "data": {
      "text/plain": [
       "['OPENET_LC08_034032_20200819.tif',\n",
       " 'ET_LC08_034032_20200819.tif',\n",
       " 'LST_LC08_034032_20200819.tif',\n",
       " 'NDVI_LC08_034032_20200819.tif']"
      ]
     },
     "execution_count": 5,
     "metadata": {},
     "output_type": "execute_result"
    }
   ],
   "source": [
    "files"
   ]
  },
  {
   "cell_type": "code",
   "execution_count": 8,
   "id": "983552fa",
   "metadata": {},
   "outputs": [],
   "source": [
    "openet = rio.open(files[0])\n",
    "openet = openet.read()"
   ]
  },
  {
   "cell_type": "code",
   "execution_count": 11,
   "id": "7dd01a03",
   "metadata": {},
   "outputs": [
    {
     "data": {
      "text/plain": [
       "6.630000162124634"
      ]
     },
     "execution_count": 11,
     "metadata": {},
     "output_type": "execute_result"
    }
   ],
   "source": [
    "openet[openet != 0.0].max()"
   ]
  },
  {
   "cell_type": "code",
   "execution_count": 16,
   "id": "a5173582",
   "metadata": {},
   "outputs": [
    {
     "data": {
      "text/plain": [
       "-0.16304698561618575"
      ]
     },
     "execution_count": 16,
     "metadata": {},
     "output_type": "execute_result"
    }
   ],
   "source": [
    "et = rio.open(files[1])\n",
    "et = et.read()\n",
    "et[et != 0.0].min()"
   ]
  },
  {
   "cell_type": "code",
   "execution_count": 19,
   "id": "e9ddef35",
   "metadata": {},
   "outputs": [
    {
     "data": {
      "text/plain": [
       "331.92901238"
      ]
     },
     "execution_count": 19,
     "metadata": {},
     "output_type": "execute_result"
    }
   ],
   "source": [
    "et = rio.open(files[2])\n",
    "et = et.read()\n",
    "et[et != 0.0].max()"
   ]
  },
  {
   "cell_type": "code",
   "execution_count": null,
   "id": "83a0406e",
   "metadata": {},
   "outputs": [],
   "source": []
  }
 ],
 "metadata": {
  "kernelspec": {
   "display_name": "Python 3 (ipykernel)",
   "language": "python",
   "name": "python3"
  },
  "language_info": {
   "codemirror_mode": {
    "name": "ipython",
    "version": 3
   },
   "file_extension": ".py",
   "mimetype": "text/x-python",
   "name": "python",
   "nbconvert_exporter": "python",
   "pygments_lexer": "ipython3",
   "version": "3.9.7"
  }
 },
 "nbformat": 4,
 "nbformat_minor": 5
}
